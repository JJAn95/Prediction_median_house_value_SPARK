{
 "cells": [
  {
   "cell_type": "markdown",
   "id": "fec07a8d",
   "metadata": {},
   "source": [
    "## Вступление"
   ]
  },
  {
   "cell_type": "markdown",
   "id": "a376d2a2",
   "metadata": {},
   "source": [
    "**Описание** \n",
    "\n",
    "В проекте необходимо обучить модель линейной регрессии на данных о жилье в Калифорнии в 1990 году. \n",
    "В колонках датасета содержатся следующие данные:\n",
    "\n",
    "- longitude — широта;\n",
    "- latitude — долгота;\n",
    "- housing_median_age — медианный возраст жителей жилого массива;\n",
    "- total_rooms — общее количество комнат в домах жилого массива;\n",
    "- total_bedrooms — общее количество спален в домах жилого массива;\n",
    "- population — количество человек, которые проживают в жилом массиве;\n",
    "- households — количество домовладений в жилом массиве;\n",
    "- median_income — медианный доход жителей жилого массива;\n",
    "- median_house_value — медианная стоимость дома в жилом массиве;\n",
    "- ocean_proximity — близость к океану.\n",
    "\n",
    "**Цель** \n",
    "\n",
    "На основе данных предсказать медианную стоимость дома в жилом массиве — median_house_value. \n",
    "\n",
    "**Задачи** \n",
    "\n",
    "1. Обучить модель и сделайть предсказания на тестовой выборке.\n",
    "2. Для оценки качества модели использовать метрики RMSE, MAE и R2."
   ]
  },
  {
   "cell_type": "markdown",
   "id": "b3195b4b",
   "metadata": {},
   "source": [
    "**План действий:**\n",
    "\n",
    "1. Инициализировать локальную Spark-сессию.\n",
    "2. Прочитать содержимое файла housing.csv.\n",
    "3. Вывести типы данных колонок датасета, используя методы pySpark.\n",
    "4. Выполнить предобработку данных. \n",
    "       * Исследовать данные на наличие пропусков и заполнить их, выбрав значения по своему усмотрению. \n",
    "       * Преобразовать колонку с категориальными значениями техникой One hot encoding.\n",
    "5. Построить две модели линейной регрессии на разных наборах данных:\n",
    "       * используя все данные из файла;\n",
    "       * используя только числовые переменные, исключив категориальные.\n",
    "6. Для построения модели использовать оценщик LinearRegression из библиотеки MLlib.\n",
    "7. Сравнить результаты работы линейной регрессии на двух наборах данных по метрикам RMSE, MAE и R2.\n",
    "8. Сделайтб выводы."
   ]
  },
  {
   "cell_type": "markdown",
   "id": "09046f28",
   "metadata": {},
   "source": [
    "## 1. Инициализация локальной Spark-сессии."
   ]
  },
  {
   "cell_type": "code",
   "execution_count": 219,
   "id": "3f0a9d15",
   "metadata": {},
   "outputs": [],
   "source": [
    "import pandas as pd \n",
    "import numpy as np\n",
    "\n",
    "import pyspark\n",
    "from pyspark.sql import SparkSession\n",
    "from pyspark.sql.types import *\n",
    "import pyspark.sql.functions as F\n",
    "\n",
    "from pyspark.ml.feature import StringIndexer, VectorAssembler, StandardScaler\n",
    "from pyspark.ml.regression import LinearRegression\n",
    "from pyspark.ml.evaluation import RegressionEvaluator\n",
    "\n",
    "pyspark_version = pyspark.__version__\n",
    "if int(pyspark_version[:1]) == 3:\n",
    "    from pyspark.ml.feature import OneHotEncoder    \n",
    "elif int(pyspark_version[:1]) == 2:\n",
    "    from pyspark.ml.feature import OneHotEncodeEstimator\n",
    "        \n",
    "RANDOM_SEED = 2023"
   ]
  },
  {
   "cell_type": "code",
   "execution_count": 220,
   "id": "47e6008c",
   "metadata": {},
   "outputs": [],
   "source": [
    "spark = SparkSession.builder \\\n",
    "                    .master(\"local\") \\\n",
    "                    .appName(\"EDA California Housing\") \\\n",
    "                    .getOrCreate()"
   ]
  },
  {
   "cell_type": "markdown",
   "id": "a1c94eec",
   "metadata": {},
   "source": [
    "Спарк-сессия инициализировалась корректно, можно приступать к работе"
   ]
  },
  {
   "cell_type": "markdown",
   "id": "580ac8ae",
   "metadata": {},
   "source": [
    "## 2. Чтение содержимого файла housing.csv."
   ]
  },
  {
   "cell_type": "code",
   "execution_count": 221,
   "id": "569ace1c",
   "metadata": {
    "scrolled": true
   },
   "outputs": [
    {
     "name": "stdout",
     "output_type": "stream",
     "text": [
      "+---------+--------+------------------+-----------+--------------+----------+----------+-------------+------------------+---------------+\n",
      "|longitude|latitude|housing_median_age|total_rooms|total_bedrooms|population|households|median_income|median_house_value|ocean_proximity|\n",
      "+---------+--------+------------------+-----------+--------------+----------+----------+-------------+------------------+---------------+\n",
      "|  -122.23|   37.88|              41.0|      880.0|         129.0|     322.0|     126.0|       8.3252|          452600.0|       NEAR BAY|\n",
      "|  -122.22|   37.86|              21.0|     7099.0|        1106.0|    2401.0|    1138.0|       8.3014|          358500.0|       NEAR BAY|\n",
      "|  -122.24|   37.85|              52.0|     1467.0|         190.0|     496.0|     177.0|       7.2574|          352100.0|       NEAR BAY|\n",
      "|  -122.25|   37.85|              52.0|     1274.0|         235.0|     558.0|     219.0|       5.6431|          341300.0|       NEAR BAY|\n",
      "|  -122.25|   37.85|              52.0|     1627.0|         280.0|     565.0|     259.0|       3.8462|          342200.0|       NEAR BAY|\n",
      "|  -122.25|   37.85|              52.0|      919.0|         213.0|     413.0|     193.0|       4.0368|          269700.0|       NEAR BAY|\n",
      "|  -122.25|   37.84|              52.0|     2535.0|         489.0|    1094.0|     514.0|       3.6591|          299200.0|       NEAR BAY|\n",
      "|  -122.25|   37.84|              52.0|     3104.0|         687.0|    1157.0|     647.0|         3.12|          241400.0|       NEAR BAY|\n",
      "|  -122.26|   37.84|              42.0|     2555.0|         665.0|    1206.0|     595.0|       2.0804|          226700.0|       NEAR BAY|\n",
      "|  -122.25|   37.84|              52.0|     3549.0|         707.0|    1551.0|     714.0|       3.6912|          261100.0|       NEAR BAY|\n",
      "|  -122.26|   37.85|              52.0|     2202.0|         434.0|     910.0|     402.0|       3.2031|          281500.0|       NEAR BAY|\n",
      "|  -122.26|   37.85|              52.0|     3503.0|         752.0|    1504.0|     734.0|       3.2705|          241800.0|       NEAR BAY|\n",
      "|  -122.26|   37.85|              52.0|     2491.0|         474.0|    1098.0|     468.0|        3.075|          213500.0|       NEAR BAY|\n",
      "|  -122.26|   37.84|              52.0|      696.0|         191.0|     345.0|     174.0|       2.6736|          191300.0|       NEAR BAY|\n",
      "|  -122.26|   37.85|              52.0|     2643.0|         626.0|    1212.0|     620.0|       1.9167|          159200.0|       NEAR BAY|\n",
      "|  -122.26|   37.85|              50.0|     1120.0|         283.0|     697.0|     264.0|        2.125|          140000.0|       NEAR BAY|\n",
      "|  -122.27|   37.85|              52.0|     1966.0|         347.0|     793.0|     331.0|        2.775|          152500.0|       NEAR BAY|\n",
      "|  -122.27|   37.85|              52.0|     1228.0|         293.0|     648.0|     303.0|       2.1202|          155500.0|       NEAR BAY|\n",
      "|  -122.26|   37.84|              50.0|     2239.0|         455.0|     990.0|     419.0|       1.9911|          158700.0|       NEAR BAY|\n",
      "|  -122.27|   37.84|              52.0|     1503.0|         298.0|     690.0|     275.0|       2.6033|          162900.0|       NEAR BAY|\n",
      "+---------+--------+------------------+-----------+--------------+----------+----------+-------------+------------------+---------------+\n",
      "only showing top 20 rows\n",
      "\n"
     ]
    }
   ],
   "source": [
    "df = spark.read.load('housing.csv', \n",
    "                             format=\"csv\", sep=\",\", \n",
    "                             inferSchema=True, header=\"true\")\n",
    "df.show()"
   ]
  },
  {
   "cell_type": "markdown",
   "id": "78e175c8",
   "metadata": {},
   "source": [
    "Файл прочитался тоже корректно, не очень удобно все выглядит конечно, но отображено все корреткно"
   ]
  },
  {
   "cell_type": "markdown",
   "id": "602d580d",
   "metadata": {},
   "source": [
    "## 3. Вывод типов данных колонок датасета и описательных статистик"
   ]
  },
  {
   "cell_type": "code",
   "execution_count": 222,
   "id": "7ffae053",
   "metadata": {},
   "outputs": [
    {
     "name": "stdout",
     "output_type": "stream",
     "text": [
      "root\n",
      " |-- longitude: double (nullable = true)\n",
      " |-- latitude: double (nullable = true)\n",
      " |-- housing_median_age: double (nullable = true)\n",
      " |-- total_rooms: double (nullable = true)\n",
      " |-- total_bedrooms: double (nullable = true)\n",
      " |-- population: double (nullable = true)\n",
      " |-- households: double (nullable = true)\n",
      " |-- median_income: double (nullable = true)\n",
      " |-- median_house_value: double (nullable = true)\n",
      " |-- ocean_proximity: string (nullable = true)\n",
      "\n"
     ]
    }
   ],
   "source": [
    "df.printSchema() "
   ]
  },
  {
   "cell_type": "code",
   "execution_count": 223,
   "id": "94809cf8",
   "metadata": {
    "scrolled": true
   },
   "outputs": [
    {
     "data": {
      "text/html": [
       "<div>\n",
       "<style scoped>\n",
       "    .dataframe tbody tr th:only-of-type {\n",
       "        vertical-align: middle;\n",
       "    }\n",
       "\n",
       "    .dataframe tbody tr th {\n",
       "        vertical-align: top;\n",
       "    }\n",
       "\n",
       "    .dataframe thead th {\n",
       "        text-align: right;\n",
       "    }\n",
       "</style>\n",
       "<table border=\"1\" class=\"dataframe\">\n",
       "  <thead>\n",
       "    <tr style=\"text-align: right;\">\n",
       "      <th></th>\n",
       "      <th>column</th>\n",
       "      <th>type</th>\n",
       "    </tr>\n",
       "  </thead>\n",
       "  <tbody>\n",
       "    <tr>\n",
       "      <th>0</th>\n",
       "      <td>longitude</td>\n",
       "      <td>double</td>\n",
       "    </tr>\n",
       "    <tr>\n",
       "      <th>1</th>\n",
       "      <td>latitude</td>\n",
       "      <td>double</td>\n",
       "    </tr>\n",
       "    <tr>\n",
       "      <th>2</th>\n",
       "      <td>housing_median_age</td>\n",
       "      <td>double</td>\n",
       "    </tr>\n",
       "    <tr>\n",
       "      <th>3</th>\n",
       "      <td>total_rooms</td>\n",
       "      <td>double</td>\n",
       "    </tr>\n",
       "    <tr>\n",
       "      <th>4</th>\n",
       "      <td>total_bedrooms</td>\n",
       "      <td>double</td>\n",
       "    </tr>\n",
       "    <tr>\n",
       "      <th>5</th>\n",
       "      <td>population</td>\n",
       "      <td>double</td>\n",
       "    </tr>\n",
       "    <tr>\n",
       "      <th>6</th>\n",
       "      <td>households</td>\n",
       "      <td>double</td>\n",
       "    </tr>\n",
       "    <tr>\n",
       "      <th>7</th>\n",
       "      <td>median_income</td>\n",
       "      <td>double</td>\n",
       "    </tr>\n",
       "    <tr>\n",
       "      <th>8</th>\n",
       "      <td>median_house_value</td>\n",
       "      <td>double</td>\n",
       "    </tr>\n",
       "    <tr>\n",
       "      <th>9</th>\n",
       "      <td>ocean_proximity</td>\n",
       "      <td>string</td>\n",
       "    </tr>\n",
       "  </tbody>\n",
       "</table>\n",
       "</div>"
      ],
      "text/plain": [
       "               column    type\n",
       "0           longitude  double\n",
       "1            latitude  double\n",
       "2  housing_median_age  double\n",
       "3         total_rooms  double\n",
       "4      total_bedrooms  double\n",
       "5          population  double\n",
       "6          households  double\n",
       "7       median_income  double\n",
       "8  median_house_value  double\n",
       "9     ocean_proximity  string"
      ]
     },
     "execution_count": 223,
     "metadata": {},
     "output_type": "execute_result"
    }
   ],
   "source": [
    "pd.DataFrame(df.dtypes, columns=['column', 'type'])"
   ]
  },
  {
   "cell_type": "markdown",
   "id": "e7e9c78f",
   "metadata": {},
   "source": [
    "У нас 10 колонок, 9 из них количественные (вещественные), и 1 признак категориальный (строковый)"
   ]
  },
  {
   "cell_type": "code",
   "execution_count": 224,
   "id": "e9d46a9b",
   "metadata": {},
   "outputs": [
    {
     "data": {
      "text/html": [
       "<div>\n",
       "<style scoped>\n",
       "    .dataframe tbody tr th:only-of-type {\n",
       "        vertical-align: middle;\n",
       "    }\n",
       "\n",
       "    .dataframe tbody tr th {\n",
       "        vertical-align: top;\n",
       "    }\n",
       "\n",
       "    .dataframe thead th {\n",
       "        text-align: right;\n",
       "    }\n",
       "</style>\n",
       "<table border=\"1\" class=\"dataframe\">\n",
       "  <thead>\n",
       "    <tr style=\"text-align: right;\">\n",
       "      <th></th>\n",
       "      <th>summary</th>\n",
       "      <th>longitude</th>\n",
       "      <th>latitude</th>\n",
       "      <th>housing_median_age</th>\n",
       "      <th>total_rooms</th>\n",
       "      <th>total_bedrooms</th>\n",
       "      <th>population</th>\n",
       "      <th>households</th>\n",
       "      <th>median_income</th>\n",
       "      <th>median_house_value</th>\n",
       "      <th>ocean_proximity</th>\n",
       "    </tr>\n",
       "  </thead>\n",
       "  <tbody>\n",
       "    <tr>\n",
       "      <th>0</th>\n",
       "      <td>count</td>\n",
       "      <td>20640</td>\n",
       "      <td>20640</td>\n",
       "      <td>20640</td>\n",
       "      <td>20640</td>\n",
       "      <td>20433</td>\n",
       "      <td>20640</td>\n",
       "      <td>20640</td>\n",
       "      <td>20640</td>\n",
       "      <td>20640</td>\n",
       "      <td>20640</td>\n",
       "    </tr>\n",
       "    <tr>\n",
       "      <th>1</th>\n",
       "      <td>mean</td>\n",
       "      <td>-119.56970445736148</td>\n",
       "      <td>35.6318614341087</td>\n",
       "      <td>28.639486434108527</td>\n",
       "      <td>2635.7630813953488</td>\n",
       "      <td>537.8705525375618</td>\n",
       "      <td>1425.4767441860465</td>\n",
       "      <td>499.5396802325581</td>\n",
       "      <td>3.8706710029070246</td>\n",
       "      <td>206855.81690891474</td>\n",
       "      <td>None</td>\n",
       "    </tr>\n",
       "    <tr>\n",
       "      <th>2</th>\n",
       "      <td>stddev</td>\n",
       "      <td>2.003531723502584</td>\n",
       "      <td>2.135952397457101</td>\n",
       "      <td>12.58555761211163</td>\n",
       "      <td>2181.6152515827944</td>\n",
       "      <td>421.38507007403115</td>\n",
       "      <td>1132.46212176534</td>\n",
       "      <td>382.3297528316098</td>\n",
       "      <td>1.899821717945263</td>\n",
       "      <td>115395.61587441359</td>\n",
       "      <td>None</td>\n",
       "    </tr>\n",
       "    <tr>\n",
       "      <th>3</th>\n",
       "      <td>min</td>\n",
       "      <td>-124.35</td>\n",
       "      <td>32.54</td>\n",
       "      <td>1.0</td>\n",
       "      <td>2.0</td>\n",
       "      <td>1.0</td>\n",
       "      <td>3.0</td>\n",
       "      <td>1.0</td>\n",
       "      <td>0.4999</td>\n",
       "      <td>14999.0</td>\n",
       "      <td>&lt;1H OCEAN</td>\n",
       "    </tr>\n",
       "    <tr>\n",
       "      <th>4</th>\n",
       "      <td>max</td>\n",
       "      <td>-114.31</td>\n",
       "      <td>41.95</td>\n",
       "      <td>52.0</td>\n",
       "      <td>39320.0</td>\n",
       "      <td>6445.0</td>\n",
       "      <td>35682.0</td>\n",
       "      <td>6082.0</td>\n",
       "      <td>15.0001</td>\n",
       "      <td>500001.0</td>\n",
       "      <td>NEAR OCEAN</td>\n",
       "    </tr>\n",
       "  </tbody>\n",
       "</table>\n",
       "</div>"
      ],
      "text/plain": [
       "  summary            longitude           latitude  housing_median_age  \\\n",
       "0   count                20640              20640               20640   \n",
       "1    mean  -119.56970445736148   35.6318614341087  28.639486434108527   \n",
       "2  stddev    2.003531723502584  2.135952397457101   12.58555761211163   \n",
       "3     min              -124.35              32.54                 1.0   \n",
       "4     max              -114.31              41.95                52.0   \n",
       "\n",
       "          total_rooms      total_bedrooms          population  \\\n",
       "0               20640               20433               20640   \n",
       "1  2635.7630813953488   537.8705525375618  1425.4767441860465   \n",
       "2  2181.6152515827944  421.38507007403115    1132.46212176534   \n",
       "3                 2.0                 1.0                 3.0   \n",
       "4             39320.0              6445.0             35682.0   \n",
       "\n",
       "          households       median_income  median_house_value ocean_proximity  \n",
       "0              20640               20640               20640           20640  \n",
       "1  499.5396802325581  3.8706710029070246  206855.81690891474            None  \n",
       "2  382.3297528316098   1.899821717945263  115395.61587441359            None  \n",
       "3                1.0              0.4999             14999.0       <1H OCEAN  \n",
       "4             6082.0             15.0001            500001.0      NEAR OCEAN  "
      ]
     },
     "execution_count": 224,
     "metadata": {},
     "output_type": "execute_result"
    }
   ],
   "source": [
    "df.describe().toPandas()"
   ]
  },
  {
   "cell_type": "markdown",
   "id": "1676bcac",
   "metadata": {},
   "source": [
    "На глаз уже видно, что есть прпоуски в одном признаке. В целом по полученным описательным статистикам трудно сказать, все ли впорядке. Смущает больше всего минимальное значение в 1 год в признаке housing_median_age (медианный возраст жителей жилого массива). То есть есть в нашем датасете жилмассивы где медианный возраст это годовалые дети. Ясли-детский дом как будто какой-то =(\n",
    "Максимальный медианный доход жилмассива - 15к долларов; максимальная медианная стоимость жилмассива это полмиллиона долларов."
   ]
  },
  {
   "cell_type": "markdown",
   "id": "ec7415b2",
   "metadata": {},
   "source": [
    "## 4. Предобработка данных"
   ]
  },
  {
   "cell_type": "code",
   "execution_count": 225,
   "id": "8d10f86c",
   "metadata": {
    "scrolled": true
   },
   "outputs": [
    {
     "name": "stdout",
     "output_type": "stream",
     "text": [
      "longitude 0\n",
      "latitude 0\n",
      "housing_median_age 0\n",
      "total_rooms 0\n",
      "total_bedrooms 207\n",
      "population 0\n",
      "households 0\n",
      "median_income 0\n",
      "median_house_value 0\n",
      "ocean_proximity 20640\n"
     ]
    }
   ],
   "source": [
    "for column in df.columns:\n",
    "    check_col = F.col(column).cast('float').isNull()\n",
    "    print(column, df.filter(check_col).count())"
   ]
  },
  {
   "cell_type": "markdown",
   "id": "ec680cd8",
   "metadata": {},
   "source": [
    "Определили, что у нас есть пропуски в признаке total_bedrooms. Значение 20640 у признака ocean_proximity ложно, так как категориальный формат у нас не прошел, как \"вещественный\" и соотвественно дал значение True в методе isNull(). Но так как у нас ровно столько же значений - 20640, то можно считать, что пропусков в категориальном признаке ocean_proximity тоже нет."
   ]
  },
  {
   "cell_type": "markdown",
   "id": "236b5d86",
   "metadata": {},
   "source": [
    "Заполним пропуски в колонке total_bedrooms медианным значением"
   ]
  },
  {
   "cell_type": "code",
   "execution_count": 226,
   "id": "cd52316e",
   "metadata": {},
   "outputs": [],
   "source": [
    "median = df.approxQuantile(\"total_bedrooms\", [0.5], 0.01)[0]\n",
    "\n",
    "df = df.na.fill(median, subset=[\"total_bedrooms\"])\n"
   ]
  },
  {
   "cell_type": "code",
   "execution_count": 227,
   "id": "1bbe3d81",
   "metadata": {},
   "outputs": [],
   "source": [
    "# for column in df.columns:\n",
    "#     check_col = F.col(column).cast('float').isNull()\n",
    "#     print(column, df.filter(check_col).count())"
   ]
  },
  {
   "cell_type": "markdown",
   "id": "68bb16c5",
   "metadata": {},
   "source": [
    "Успешно заполнили пропуски. Идем дальше."
   ]
  },
  {
   "cell_type": "markdown",
   "id": "c4e91f98",
   "metadata": {},
   "source": [
    "### Разграничим категораильные и количественные признаки."
   ]
  },
  {
   "cell_type": "code",
   "execution_count": 228,
   "id": "96064f87",
   "metadata": {},
   "outputs": [],
   "source": [
    "nums = df.drop('ocean_proximity', 'median_house_value').columns\n",
    "cats = ['ocean_proximity']\n",
    "\n",
    "df_nums = df.drop('ocean_proximity')"
   ]
  },
  {
   "cell_type": "markdown",
   "id": "af0fb26c",
   "metadata": {},
   "source": [
    "### Разделение на выборки"
   ]
  },
  {
   "cell_type": "markdown",
   "id": "b1b7ed48",
   "metadata": {},
   "source": [
    "На этом этапе сразу начали готовить 2 датасета. 1 - со всеми признаками. 2 - только с количественными признаками."
   ]
  },
  {
   "cell_type": "code",
   "execution_count": 229,
   "id": "756b5fd2",
   "metadata": {},
   "outputs": [],
   "source": [
    "# Перемешаем данные\n",
    "df = df.orderBy(F.rand(RANDOM_SEED))\n",
    "df_nums = df_nums.orderBy(F.rand(RANDOM_SEED))"
   ]
  },
  {
   "cell_type": "code",
   "execution_count": 230,
   "id": "1003dad2",
   "metadata": {
    "scrolled": true
   },
   "outputs": [
    {
     "name": "stdout",
     "output_type": "stream",
     "text": [
      "16519 4121\n",
      "16519 4121\n"
     ]
    }
   ],
   "source": [
    "train_data, test_data = df.randomSplit([.8,.2], seed=RANDOM_SEED)\n",
    "print(train_data.count(), test_data.count())\n",
    "\n",
    "train_data_nums, test_data_nums = df_nums.randomSplit([.8,.2], seed=RANDOM_SEED)\n",
    "print(train_data_nums.count(), test_data_nums.count())"
   ]
  },
  {
   "cell_type": "markdown",
   "id": "b0c4d518",
   "metadata": {},
   "source": [
    "Успешно разделили оба датасета на обучающую и тестовые выборки в соотношении 80/20"
   ]
  },
  {
   "cell_type": "markdown",
   "id": "c5ce9de6",
   "metadata": {},
   "source": [
    "### Масштабируем все количественные признаки"
   ]
  },
  {
   "cell_type": "code",
   "execution_count": 231,
   "id": "1130b2b0",
   "metadata": {},
   "outputs": [],
   "source": [
    "numerical_assembler = VectorAssembler(inputCols=nums, outputCol=\"nums_f\")\n",
    "\n",
    "train_data = numerical_assembler.transform(train_data)\n",
    "test_data = numerical_assembler.transform(test_data)\n",
    "\n",
    "train_data_nums = numerical_assembler.transform(train_data_nums)\n",
    "test_data_nums = numerical_assembler.transform(test_data_nums)"
   ]
  },
  {
   "cell_type": "code",
   "execution_count": 232,
   "id": "923d600f",
   "metadata": {},
   "outputs": [
    {
     "data": {
      "text/plain": [
       "['longitude',\n",
       " 'latitude',\n",
       " 'housing_median_age',\n",
       " 'total_rooms',\n",
       " 'total_bedrooms',\n",
       " 'population',\n",
       " 'households',\n",
       " 'median_income']"
      ]
     },
     "execution_count": 232,
     "metadata": {},
     "output_type": "execute_result"
    }
   ],
   "source": [
    "nums"
   ]
  },
  {
   "cell_type": "code",
   "execution_count": 233,
   "id": "76eea49d",
   "metadata": {},
   "outputs": [],
   "source": [
    "standardScaler = StandardScaler(inputCol='nums_f', outputCol=\"nums_f_scaled\")\n",
    "standardScaler_model = standardScaler.fit(train_data)\n",
    "\n",
    "train_data = standardScaler_model.transform(train_data)\n",
    "test_data = standardScaler_model.transform(test_data)\n",
    "\n",
    "standardScaler_model_nums = standardScaler.fit(train_data_nums)\n",
    "\n",
    "train_data_nums = standardScaler_model_nums.transform(train_data_nums)\n",
    "test_data_nums = standardScaler_model_nums.transform(test_data_nums)\n"
   ]
  },
  {
   "cell_type": "markdown",
   "id": "b5f5da0f",
   "metadata": {},
   "source": [
    "### Кодируем категориальные признаки"
   ]
  },
  {
   "cell_type": "code",
   "execution_count": 234,
   "id": "eadbf28e",
   "metadata": {},
   "outputs": [],
   "source": [
    "indexer = StringIndexer(inputCols=cats, outputCols=[c+'_idx' for c in cats]) \n",
    "indexer_model = indexer.fit(train_data)\n",
    "\n",
    "train_data = indexer_model.transform(train_data)\n",
    "test_data = indexer_model.transform(test_data)"
   ]
  },
  {
   "cell_type": "code",
   "execution_count": 235,
   "id": "0b8dde7c",
   "metadata": {},
   "outputs": [],
   "source": [
    "encoder = OneHotEncoder(inputCols=[c+'_idx' for c in cats], outputCols=[c+'_ohe' for c in cats])\n",
    "encoder_model = encoder.fit(train_data)\n",
    "\n",
    "train_data = encoder_model.transform(train_data)\n",
    "test_data = encoder_model.transform(test_data)"
   ]
  },
  {
   "cell_type": "code",
   "execution_count": 236,
   "id": "a0e4b828",
   "metadata": {},
   "outputs": [],
   "source": [
    "cat_assembler = VectorAssembler(inputCols=[c+'_ohe' for c in cats], outputCol=\"cats_f\")\n",
    "train_data = cat_assembler.transform(train_data)\n",
    "test_data = cat_assembler.transform(test_data)"
   ]
  },
  {
   "cell_type": "code",
   "execution_count": 237,
   "id": "d565ec70",
   "metadata": {},
   "outputs": [
    {
     "data": {
      "text/plain": [
       "['longitude',\n",
       " 'latitude',\n",
       " 'housing_median_age',\n",
       " 'total_rooms',\n",
       " 'total_bedrooms',\n",
       " 'population',\n",
       " 'households',\n",
       " 'median_income',\n",
       " 'median_house_value',\n",
       " 'ocean_proximity',\n",
       " 'nums_f',\n",
       " 'nums_f_scaled',\n",
       " 'ocean_proximity_idx',\n",
       " 'ocean_proximity_ohe',\n",
       " 'cats_f']"
      ]
     },
     "execution_count": 237,
     "metadata": {},
     "output_type": "execute_result"
    }
   ],
   "source": [
    "train_data.columns"
   ]
  },
  {
   "cell_type": "markdown",
   "id": "8dff2711",
   "metadata": {},
   "source": [
    "Все значения успешно перевели в векторный формат"
   ]
  },
  {
   "cell_type": "markdown",
   "id": "2d9e04c1",
   "metadata": {},
   "source": [
    "### Склеиваем все признаки"
   ]
  },
  {
   "cell_type": "code",
   "execution_count": 238,
   "id": "47a1a431",
   "metadata": {},
   "outputs": [
    {
     "name": "stdout",
     "output_type": "stream",
     "text": [
      "+-------------+--------------------+\n",
      "|       cats_f|       nums_f_scaled|\n",
      "+-------------+--------------------+\n",
      "|(4,[2],[1.0])|[-62.029642565664...|\n",
      "|(4,[2],[1.0])|[-62.004701012562...|\n",
      "|(4,[2],[1.0])|[-62.004701012562...|\n",
      "+-------------+--------------------+\n",
      "only showing top 3 rows\n",
      "\n"
     ]
    }
   ],
   "source": [
    "all_features = ['cats_f','nums_f_scaled']\n",
    "\n",
    "final_assembler = VectorAssembler(inputCols=all_features, outputCol=\"features\") \n",
    "train_data = final_assembler.transform(train_data)\n",
    "test_data = final_assembler.transform(test_data)\n",
    "\n",
    "train_data.select(all_features).show(3)"
   ]
  },
  {
   "cell_type": "code",
   "execution_count": 239,
   "id": "b5218389",
   "metadata": {},
   "outputs": [],
   "source": [
    "# only_nums_features = ['nums_f_scaled']\n",
    "\n",
    "# final_assembler_nums = VectorAssembler(inputCols=only_nums_features, outputCol=\"nums_features\") \n",
    "# df_nums = final_assembler_nums.transform(df)\n",
    "\n",
    "# df_nums.select(only_nums_features).show(3)"
   ]
  },
  {
   "cell_type": "markdown",
   "id": "848b14f8",
   "metadata": {},
   "source": [
    "## 5. Построение моделей"
   ]
  },
  {
   "cell_type": "markdown",
   "id": "284739cc",
   "metadata": {},
   "source": [
    "### Модель со всеми признаками"
   ]
  },
  {
   "cell_type": "code",
   "execution_count": 240,
   "id": "2b4453a4",
   "metadata": {},
   "outputs": [],
   "source": [
    "# создаем модель\n",
    "lr = LinearRegression(featuresCol=\"features\", labelCol=\"median_house_value\", regParam=0.01)"
   ]
  },
  {
   "cell_type": "code",
   "execution_count": 241,
   "id": "91cafc5b",
   "metadata": {},
   "outputs": [],
   "source": [
    "# обучаем\n",
    "lr_model = lr.fit(train_data)"
   ]
  },
  {
   "cell_type": "code",
   "execution_count": 242,
   "id": "c47bbb3f",
   "metadata": {},
   "outputs": [],
   "source": [
    "# предсказываем значения\n",
    "predictions = lr_model.transform(test_data)"
   ]
  },
  {
   "cell_type": "code",
   "execution_count": 243,
   "id": "5bbe1bdd",
   "metadata": {},
   "outputs": [
    {
     "name": "stdout",
     "output_type": "stream",
     "text": [
      "RMSE: 69492.99122412229\n",
      "MAE: 49769.85420928313\n",
      "R2: 0.6435510492870997\n"
     ]
    }
   ],
   "source": [
    "# определяем метрики RMSE, MAE, R2\n",
    "\n",
    "evaluator = RegressionEvaluator(labelCol=\"median_house_value\", predictionCol=\"prediction\", metricName=\"rmse\")\n",
    "rmse = evaluator.evaluate(predictions)\n",
    "\n",
    "evaluator = RegressionEvaluator(labelCol=\"median_house_value\", predictionCol=\"prediction\", metricName=\"mae\")\n",
    "mae = evaluator.evaluate(predictions)\n",
    "\n",
    "evaluator = RegressionEvaluator(labelCol=\"median_house_value\", predictionCol=\"prediction\", metricName=\"r2\")\n",
    "r2 = evaluator.evaluate(predictions)\n",
    "\n",
    "print(\"RMSE:\", rmse)\n",
    "print(\"MAE:\", mae)\n",
    "print(\"R2:\", r2)\n"
   ]
  },
  {
   "cell_type": "markdown",
   "id": "12096533",
   "metadata": {},
   "source": [
    "RMSE, MAE - чем ближе к нулю, тем более точные предсказания дает модель. Значение R2 близкое к 1 указывает на то, что модель очень хорошо объясняет данные, почти вся вариация в целевой переменной объясняется моделью. В нашем случае у нас слишком высокие показатели RMSE, MAE и R2 далек от единицы. Но и он больше 0.5, что в целом немного утешает."
   ]
  },
  {
   "cell_type": "markdown",
   "id": "a6b9932a",
   "metadata": {},
   "source": [
    "### Модель только с количественными признаками"
   ]
  },
  {
   "cell_type": "code",
   "execution_count": 244,
   "id": "1d05912d",
   "metadata": {},
   "outputs": [],
   "source": [
    "# создаем модель\n",
    "lr_nums = LinearRegression(featuresCol=\"nums_f_scaled\", labelCol=\"median_house_value\", regParam=0.01)"
   ]
  },
  {
   "cell_type": "code",
   "execution_count": 245,
   "id": "57ef3aec",
   "metadata": {},
   "outputs": [],
   "source": [
    "# обучаем\n",
    "lr_nums_model = lr_nums.fit(train_data_nums)"
   ]
  },
  {
   "cell_type": "code",
   "execution_count": 246,
   "id": "e78bf666",
   "metadata": {},
   "outputs": [],
   "source": [
    "# предсказываем значения\n",
    "predictions_nums = lr_nums_model.transform(test_data_nums)"
   ]
  },
  {
   "cell_type": "code",
   "execution_count": 247,
   "id": "b5ac100a",
   "metadata": {},
   "outputs": [
    {
     "name": "stdout",
     "output_type": "stream",
     "text": [
      "RMSE: 70610.79420878772\n",
      "MAE: 50974.94052752422\n",
      "R2: 0.6319917778044624\n"
     ]
    }
   ],
   "source": [
    "# определяем метрики RMSE, MAE, R2\n",
    "\n",
    "evaluator_nums = RegressionEvaluator(labelCol=\"median_house_value\", predictionCol=\"prediction\", metricName=\"rmse\")\n",
    "rmse_nums = evaluator_nums.evaluate(predictions_nums)\n",
    "\n",
    "evaluator_nums = RegressionEvaluator(labelCol=\"median_house_value\", predictionCol=\"prediction\", metricName=\"mae\")\n",
    "mae_nums = evaluator_nums.evaluate(predictions_nums)\n",
    "\n",
    "evaluator_nums = RegressionEvaluator(labelCol=\"median_house_value\", predictionCol=\"prediction\", metricName=\"r2\")\n",
    "r2_nums = evaluator_nums.evaluate(predictions_nums)\n",
    "\n",
    "print(\"RMSE:\", rmse_nums)\n",
    "print(\"MAE:\", mae_nums)\n",
    "print(\"R2:\", r2_nums)\n"
   ]
  },
  {
   "cell_type": "markdown",
   "id": "7fc9f9a3",
   "metadata": {},
   "source": [
    "Здесь происходит такая же ситуация, что и с предыдущей моделью. Но на вид они чуть хуже."
   ]
  },
  {
   "cell_type": "markdown",
   "id": "b87df6f9",
   "metadata": {},
   "source": [
    "## 6. Сравнение метрик моделей"
   ]
  },
  {
   "cell_type": "code",
   "execution_count": 248,
   "id": "f2954852",
   "metadata": {
    "scrolled": true
   },
   "outputs": [
    {
     "name": "stdout",
     "output_type": "stream",
     "text": [
      "delta RMSE: 1117.8029846654244\n",
      "delta MAE: 1205.0863182410903\n",
      "delta R2: -0.011559271482637357\n"
     ]
    }
   ],
   "source": [
    "# Найдем разницу между полученными значениями.\n",
    "\n",
    "print('delta RMSE:', rmse_nums - rmse)\n",
    "print('delta MAE:', mae_nums - mae)\n",
    "print('delta R2:', r2_nums - r2)"
   ]
  },
  {
   "cell_type": "markdown",
   "id": "a508d0ad",
   "metadata": {},
   "source": [
    "delta RMSE и delta MAE получились положительными, а delta R2 меньше нуля. Это гвоорит о том, что первая модель (со всеми признаками) справилась чуточку лучше, чем вторая модель (только с количественными признаками). Разница конечно не велика, но тем неменее. Можно судить, что значение отдаленности жилмасива от побережья значим для модели."
   ]
  },
  {
   "cell_type": "markdown",
   "id": "aaccee39",
   "metadata": {},
   "source": [
    "## Вывод"
   ]
  },
  {
   "cell_type": "markdown",
   "id": "37f468ed",
   "metadata": {},
   "source": [
    "1. В рамках данного проекта применили некоторые навыки Spark и  DataFrame\n",
    "2. Проделали тот же привычный путь при класическом машинном обучении (от предобработки до предсказания значений модель) но с использованием библиотеки MLlib\n",
    "3. Обучили две модели. Оценили их качество на тестовой выборке с помощью RMSE, MAE и R2. Результаты получились не самыми лучшими.\n",
    "4. После сравнения результатов, выявили, что \"кпд\" у модели, которая обучалась на всех признаках, чуточку больше, чем у той, что обучаслась только на количественных признаках."
   ]
  },
  {
   "cell_type": "code",
   "execution_count": 249,
   "id": "b3527800",
   "metadata": {},
   "outputs": [],
   "source": [
    "# Закрываем сессию\n",
    "spark.stop()"
   ]
  }
 ],
 "metadata": {
  "ExecuteTimeLog": [
   {
    "duration": 25205,
    "start_time": "2023-07-20T12:51:27.132Z"
   },
   {
    "duration": 11843,
    "start_time": "2023-07-20T12:51:52.341Z"
   },
   {
    "duration": 87,
    "start_time": "2023-07-20T12:52:04.187Z"
   },
   {
    "duration": 141,
    "start_time": "2023-07-20T12:52:04.277Z"
   },
   {
    "duration": 4965,
    "start_time": "2023-07-20T12:52:04.421Z"
   },
   {
    "duration": 6078,
    "start_time": "2023-07-20T12:52:09.388Z"
   },
   {
    "duration": 696,
    "start_time": "2023-07-20T12:52:15.468Z"
   },
   {
    "duration": 2,
    "start_time": "2023-07-20T12:52:16.167Z"
   },
   {
    "duration": 28,
    "start_time": "2023-07-20T12:52:16.171Z"
   },
   {
    "duration": 397,
    "start_time": "2023-07-20T12:52:16.201Z"
   },
   {
    "duration": 5,
    "start_time": "2023-07-20T12:52:16.659Z"
   },
   {
    "duration": 1730,
    "start_time": "2023-07-20T12:52:16.666Z"
   },
   {
    "duration": 1672,
    "start_time": "2023-07-20T12:52:18.398Z"
   },
   {
    "duration": 506,
    "start_time": "2023-07-20T12:52:20.074Z"
   },
   {
    "duration": 91,
    "start_time": "2023-07-20T12:52:20.582Z"
   },
   {
    "duration": 14,
    "start_time": "2023-07-20T12:52:20.675Z"
   },
   {
    "duration": 670,
    "start_time": "2023-07-20T12:52:20.691Z"
   },
   {
    "duration": 431,
    "start_time": "2023-07-20T12:52:21.363Z"
   },
   {
    "duration": 90,
    "start_time": "2023-07-20T12:52:21.796Z"
   },
   {
    "duration": 6098,
    "start_time": "2023-07-20T12:52:21.887Z"
   },
   {
    "duration": 307,
    "start_time": "2023-07-20T12:52:27.987Z"
   },
   {
    "duration": 4580,
    "start_time": "2023-07-20T12:52:28.295Z"
   },
   {
    "duration": 108,
    "start_time": "2023-07-20T12:52:32.877Z"
   },
   {
    "duration": 2580,
    "start_time": "2023-07-20T12:52:32.987Z"
   },
   {
    "duration": 11,
    "start_time": "2023-07-20T12:52:35.569Z"
   },
   {
    "duration": 3381,
    "start_time": "2023-07-20T12:52:35.582Z"
   },
   {
    "duration": 96,
    "start_time": "2023-07-20T12:52:38.965Z"
   },
   {
    "duration": 2414,
    "start_time": "2023-07-20T12:52:39.062Z"
   },
   {
    "duration": 5,
    "start_time": "2023-07-20T12:52:41.478Z"
   },
   {
    "duration": 523,
    "start_time": "2023-07-20T12:52:41.484Z"
   }
  ],
  "kernelspec": {
   "display_name": "Python 3 (ipykernel)",
   "language": "python",
   "name": "python3"
  },
  "language_info": {
   "codemirror_mode": {
    "name": "ipython",
    "version": 3
   },
   "file_extension": ".py",
   "mimetype": "text/x-python",
   "name": "python",
   "nbconvert_exporter": "python",
   "pygments_lexer": "ipython3",
   "version": "3.8.18"
  },
  "toc": {
   "base_numbering": 1,
   "nav_menu": {},
   "number_sections": true,
   "sideBar": true,
   "skip_h1_title": true,
   "title_cell": "Table of Contents",
   "title_sidebar": "Contents",
   "toc_cell": false,
   "toc_position": {},
   "toc_section_display": true,
   "toc_window_display": true
  }
 },
 "nbformat": 4,
 "nbformat_minor": 5
}
